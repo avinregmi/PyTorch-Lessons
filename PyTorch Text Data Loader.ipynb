{
  "nbformat": 4,
  "nbformat_minor": 0,
  "metadata": {
    "colab": {
      "name": "PyTorch Text DataLoader.ipynb",
      "provenance": [],
      "authorship_tag": "ABX9TyPRc1xMitaOwY7HINft2AA5",
      "include_colab_link": true
    },
    "kernelspec": {
      "name": "python3",
      "display_name": "Python 3"
    }
  },
  "cells": [
    {
      "cell_type": "markdown",
      "metadata": {
        "id": "view-in-github",
        "colab_type": "text"
      },
      "source": [
        "<a href=\"https://colab.research.google.com/github/avinregmi/PyTorch-Lessons/blob/master/PyTorch%20Text%20Data%20Loader.ipynb\" target=\"_parent\"><img src=\"https://colab.research.google.com/assets/colab-badge.svg\" alt=\"Open In Colab\"/></a>"
      ]
    },
    {
      "cell_type": "code",
      "metadata": {
        "id": "U1U5wnfecsjl",
        "colab_type": "code",
        "colab": {}
      },
      "source": [
        "import numpy as np\n",
        "import torch\n",
        "from torch.utils.data import Dataset\n"
      ],
      "execution_count": 0,
      "outputs": []
    },
    {
      "cell_type": "code",
      "metadata": {
        "id": "ti-Hyf-mTmFU",
        "colab_type": "code",
        "colab": {
          "base_uri": "https://localhost:8080/",
          "height": 221
        },
        "outputId": "18b458ed-796a-4c13-8b5b-43ba9a46a096"
      },
      "source": [
        "! wget https://raw.githubusercontent.com/avinregmi/deep-learning-v2-pytorch/master/recurrent-neural-networks/char-rnn/data/anna.txt\n",
        "! ls"
      ],
      "execution_count": 50,
      "outputs": [
        {
          "output_type": "stream",
          "text": [
            "--2020-01-23 16:48:57--  https://raw.githubusercontent.com/avinregmi/deep-learning-v2-pytorch/master/recurrent-neural-networks/char-rnn/data/anna.txt\n",
            "Resolving raw.githubusercontent.com (raw.githubusercontent.com)... 151.101.0.133, 151.101.64.133, 151.101.128.133, ...\n",
            "Connecting to raw.githubusercontent.com (raw.githubusercontent.com)|151.101.0.133|:443... connected.\n",
            "HTTP request sent, awaiting response... 200 OK\n",
            "Length: 2025486 (1.9M) [text/plain]\n",
            "Saving to: ‘anna.txt’\n",
            "\n",
            "anna.txt            100%[===================>]   1.93M  --.-KB/s    in 0.04s   \n",
            "\n",
            "2020-01-23 16:48:58 (44.7 MB/s) - ‘anna.txt’ saved [2025486/2025486]\n",
            "\n",
            "anna.txt  sample_data\n"
          ],
          "name": "stdout"
        }
      ]
    },
    {
      "cell_type": "markdown",
      "metadata": {
        "id": "zSISGK6GWoXZ",
        "colab_type": "text"
      },
      "source": [
        "\n",
        "### To make class iterable, we need to have ```__getitem__``` OR ```__iter__``` and ```__len__```\n",
        "\n",
        "\n",
        "In Python to create an iterable object we can use two protocols the first is the Iteration ( __iter__() method), \n",
        "and the second is the Sequence ( __getitem__()), so as long as we have any of these two methods in our collection that object is iterable.\n",
        "\n",
        "We will also add __len__() which will allow us to count the size of our container and __getitem__() which will make our class iterable.\n",
        "We need to carry the Iteration Protocol or Sequence Protocol methods, which are ```__getitem__ and __iter__```\n",
        "\n",
        "Iterable class can be used in a for loop but not with next(). In order to get value\n",
        "with next(), we need to make our class as an iterator. \n",
        "\n",
        "\n",
        "\n",
        "---\n",
        "\n",
        "\n",
        "### To make Class as an iterator:\n",
        "\n",
        "1 — Include ```__getitem__() or __iter__()``` methods to make your class \n",
        "\n",
        "1.   Include ```__getitem__() or __iter__()``` methods to make your class\n",
        "2.  nclude ```__next__()``` method that returns the next item of the container, making it an iterator.\n"
      ]
    },
    {
      "cell_type": "code",
      "metadata": {
        "id": "vAEQGikacxB5",
        "colab_type": "code",
        "colab": {}
      },
      "source": [
        "\"\"\"\n",
        "To make class iterable, we need to have __getitem__ OR __iter__ and __len__\n",
        "\n",
        "Need to carry the Iteration Protocol or Sequence Protocol methods, which are __getitem__ and __iter__ \n",
        "In Python to create an iterable object we can use two protocols the first is the Iteration ( __iter__() method), \n",
        "and the second is the Sequence ( __getitem__()), so as long as we have any of these two methods in our collection that object is iterable\n",
        "we will just add the two methods, __len__() which will allow us to count the size of our container and __getitem__() which will make our class iterable.\n",
        "\n",
        "iterable class can be used in a for loop but not with next(). In order to get value\n",
        "with next(), we need to make our class as an iterator. \n",
        "\n",
        "To make Class as an iterator:\n",
        "\n",
        "1 — Include __getitem__() or __iter__() methods to make your class iterable.\n",
        "2 — Include __next__() method that returns the next item of the container, making it an iterator.\n",
        "\n",
        "\"\"\"\n",
        "\n",
        "from torch.utils.data import Dataset\n",
        "\n",
        "#Dataset API\n",
        "class CustomDataset(Dataset):\n",
        "    # A pytorch dataset class for holding data for a text classification task.\n",
        "    def __init__(self, filename):\n",
        "        '''\n",
        "        Takes as input the name of a file containing sentences with a classification label (comma separated) in each line.\n",
        "        Stores the text data in a member variable X and labels in y\n",
        "        '''\n",
        "\n",
        "        #Opening the file and storing its contents in a list\n",
        "        with open(filename) as f:\n",
        "            lines = f.read()\n",
        "\n",
        "        self.text = lines.split(\" \")\n",
        "\n",
        "    def preprocess(self, text):\n",
        "\n",
        "        #So some preprocess here\n",
        "        text_pp = text.lower().strip().replace('\\n','')\n",
        "\n",
        "        return text_pp\n",
        "    \n",
        "    def __len__(self):\n",
        "        return len(self.text)\n",
        "   \n",
        "    def __getitem__(self, index):\n",
        "       '''\n",
        "       Returns the text and labels present at the specified index of the lists.\n",
        "       '''\n",
        "       return self.preprocess(self.text[index])"
      ],
      "execution_count": 0,
      "outputs": []
    },
    {
      "cell_type": "code",
      "metadata": {
        "id": "MncI7wp9OvI-",
        "colab_type": "code",
        "colab": {
          "base_uri": "https://localhost:8080/",
          "height": 71
        },
        "outputId": "580cb3b8-f61d-403e-914d-107f2dac5c78"
      },
      "source": [
        "from torch.utils.data import DataLoader\n",
        "\n",
        "dataset = CustomDataset('anna.txt')\n",
        "\n",
        "#Wrap it around a dataloader\n",
        "dataloader = DataLoader(dataset, batch_size = 64, num_workers = 5)\n",
        "for text in dataloader:\n",
        "  print(len(text))\n",
        "  print(text)\n",
        "  break"
      ],
      "execution_count": 66,
      "outputs": [
        {
          "output_type": "stream",
          "text": [
            "64\n",
            "['chapter', '1happy', 'families', 'are', 'all', 'alike;', 'every', 'unhappy', 'family', 'is', 'unhappy', 'in', 'its', 'ownway.everything', 'was', 'in', 'confusion', 'in', 'the', \"oblonskys'\", 'house.', 'the', 'wife', 'haddiscovered', 'that', 'the', 'husband', 'was', 'carrying', 'on', 'an', 'intrigue', 'with', 'a', 'frenchgirl,', 'who', 'had', 'been', 'a', 'governess', 'in', 'their', 'family,', 'and', 'she', 'had', 'announced', 'toher', 'husband', 'that', 'she', 'could', 'not', 'go', 'on', 'living', 'in', 'the', 'same', 'house', 'with', 'him.this', 'position', 'of']\n"
          ],
          "name": "stdout"
        }
      ]
    },
    {
      "cell_type": "markdown",
      "metadata": {
        "id": "4qu_aNM7oRIw",
        "colab_type": "text"
      },
      "source": [
        "### Using IterableDataset to save memory"
      ]
    },
    {
      "cell_type": "code",
      "metadata": {
        "id": "oF7gWV6DcQF1",
        "colab_type": "code",
        "colab": {}
      },
      "source": [
        "from torch.utils.data import IterableDataset\n",
        "\n",
        "class CustomIterableDataset(IterableDataset):\n",
        "\n",
        "    def __init__(self, filename):\n",
        "\n",
        "      #Store the filename in object's memory\n",
        "      self.filename = filename\n",
        "\n",
        "\n",
        "    def preprocess(self, text):\n",
        "      # Apply some preprocessing\n",
        "      text_pp = text.lower().strip().replace(\"\\n\",\"\").split(\" \")\n",
        "\n",
        "      return text_pp\n",
        "\n",
        "    def mapper(self, line):\n",
        "      '''\n",
        "      map takes as input an iterator and a function and returns another iterator\n",
        "      such that elements of this new iterator contain the output of the function \n",
        "      when applied to the elements of the original iterator.\n",
        "      '''\n",
        "      text = self.preprocess(line)\n",
        "\n",
        "      return text\n",
        "\n",
        "\n",
        "    def __iter__(self):\n",
        "      #Create an iterator\n",
        "      file_itr = open(self.filename)\n",
        "\n",
        "      #Map each element using the mapper\n",
        "      mapped_itr = map(self.mapper, file_itr)\n",
        "      \n",
        "      return mapped_itr"
      ],
      "execution_count": 0,
      "outputs": []
    },
    {
      "cell_type": "code",
      "metadata": {
        "id": "tH-d5_rGm84C",
        "colab_type": "code",
        "colab": {
          "base_uri": "https://localhost:8080/",
          "height": 71
        },
        "outputId": "aeca2ead-4356-4b78-f7c2-fd779c4f7a15"
      },
      "source": [
        "dataset = CustomIterableDataset('anna.txt')\n",
        "dataloader = DataLoader(dataset, batch_size = 64)\n",
        "\n",
        "for text in dataloader:\n",
        "    print(len(text)) # 64\n",
        "    print(text)\n",
        "    break\n",
        "   "
      ],
      "execution_count": 75,
      "outputs": [
        {
          "output_type": "stream",
          "text": [
            "1\n",
            "[('chapter', '', '', 'happy', 'way.', '', 'everything', 'discovered', 'girl,', 'her', 'this', 'husband', 'household,', 'felt', 'stray', 'with', 'the', 'been', 'the', 'friend', 'had', 'the', '', 'three', 'oblonsky--stiva,', 'his', \"wife's\", 'over', 'would', 'the', 'sat', '', '\"yes,', 'was', 'darmstadt,', 'america.', 'sang,', 'and', 'women,', '', 'stepan', '\"yes,', 'delightful,', 'in', 'beside', 'the', 'present', 'morocco.', 'stretched', 'dressing-gown', 'remembered', 'study,', '', '\"ah,', 'happened.', 'present', 'worst', '', '\"yes,', 'thing', 'to', 'oh,', 'painful', '')]\n"
          ],
          "name": "stdout"
        }
      ]
    },
    {
      "cell_type": "code",
      "metadata": {
        "id": "m9y5GkN4oBSU",
        "colab_type": "code",
        "colab": {}
      },
      "source": [
        ""
      ],
      "execution_count": 0,
      "outputs": []
    }
  ]
}