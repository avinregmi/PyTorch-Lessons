{
  "nbformat": 4,
  "nbformat_minor": 0,
  "metadata": {
    "colab": {
      "name": "rnn working.ipynb",
      "provenance": [],
      "authorship_tag": "ABX9TyNImXi5itAB6NFI6Nv3BMfh",
      "include_colab_link": true
    },
    "kernelspec": {
      "name": "python3",
      "display_name": "Python 3"
    }
  },
  "cells": [
    {
      "cell_type": "markdown",
      "metadata": {
        "id": "view-in-github",
        "colab_type": "text"
      },
      "source": [
        "<a href=\"https://colab.research.google.com/github/avinregmi/PyTorch-Lessons/blob/master/10.RNN%20My%20Own%20Data.ipynb\" target=\"_parent\"><img src=\"https://colab.research.google.com/assets/colab-badge.svg\" alt=\"Open In Colab\"/></a>"
      ]
    },
    {
      "cell_type": "code",
      "metadata": {
        "id": "F3k5vz7FYypY",
        "colab_type": "code",
        "colab": {}
      },
      "source": [
        "\n",
        "import torch\n",
        "from torch import nn\n",
        "import numpy as np\n",
        "import matplotlib.pyplot as plt\n",
        "%matplotlib inline"
      ],
      "execution_count": 0,
      "outputs": []
    },
    {
      "cell_type": "markdown",
      "metadata": {
        "id": "W0kwX7Jsn5E-",
        "colab_type": "text"
      },
      "source": [
        "#### Generate Data"
      ]
    },
    {
      "cell_type": "code",
      "metadata": {
        "id": "jG-Qlu2zhFSI",
        "colab_type": "code",
        "outputId": "ad916f46-211c-44db-acc9-b13f13981521",
        "colab": {
          "base_uri": "https://localhost:8080/",
          "height": 34
        }
      },
      "source": [
        "import numpy as np\n",
        "import torch\n",
        "\n",
        "n_steps = 75\n",
        "print_every = 15\n",
        "seq_length = 20\n",
        "\n",
        "raw_data = np.zeros([75,21])\n",
        "for batch_i, step in enumerate(range(n_steps)):\n",
        "    # defining the training data \n",
        "    time_steps = np.linspace(step * np.pi, (step+1)*np.pi, seq_length + 1)\n",
        "    data = np.sin(time_steps)\n",
        "    data.resize((seq_length + 1, 1)) # input_size=1\n",
        "    x = data[0:-1]\n",
        "    y = data[1:]\n",
        "\n",
        "    raw_data[step] = data.reshape(21,)\n",
        "\n",
        "#print('Starting Point:',step * np.pi, 'Stoping Poing:',(step+1)*np.pi, ' # of samples: ',seq_length )\n",
        "time_steps = np.linspace(step * np.pi, (step+1)*np.pi, seq_length + 1) #starting point, stoping point, # of samples to generate\n",
        "print('Starting Point:',step * np.pi, 'Stoping Poing:',(step+1)*np.pi, ' # of samples: ',seq_length )"
      ],
      "execution_count": 81,
      "outputs": [
        {
          "output_type": "stream",
          "text": [
            "Starting Point: 232.4778563656447 Stoping Poing: 235.61944901923448  # of samples:  20\n"
          ],
          "name": "stdout"
        }
      ]
    },
    {
      "cell_type": "markdown",
      "metadata": {
        "id": "eUav0lEErTF2",
        "colab_type": "text"
      },
      "source": [
        "### Create a RNN model"
      ]
    },
    {
      "cell_type": "code",
      "metadata": {
        "id": "Zkg1X_UHnPqR",
        "colab_type": "code",
        "colab": {}
      },
      "source": [
        "\n",
        "class RNN(nn.Module):\n",
        "  def __init__(self, input_size, output_size, hidden_dim, number_of_layers=1):\n",
        "    super(RNN, self).__init__()\n",
        "    self.input_size = input_size\n",
        "    self.output_size = output_size\n",
        "    self.hidden_dim = hidden_dim\n",
        "    self.number_of_layers = number_of_layers\n",
        "\n",
        "    self.rnn = nn.RNN(input_size, hidden_dim,number_of_layers,batch_first=True)\n",
        "\n",
        "    self.fc = nn.Linear(hidden_dim, output_size)\n",
        "\n",
        "\n",
        "\n",
        "  def forward(self, x, hidden):\n",
        "    # x:(1,20,1) hidden:(1, 1, 32)\n",
        "\n",
        "\n",
        "    # output_value: # of layers, batch, hidden_dim\n",
        "    # hidden_value: # of layers, batch, hidden_dim\n",
        "    output_value, hidden_value = self.rnn(x, hidden)\n",
        "\n",
        "    # reshape output from RNN, before feeding into fc layer\n",
        "    # reshape from (1,20,32) to (20,32)\n",
        "    output_value = output_value.view(-1, self.hidden_dim)\n",
        "\n",
        "    # pass into fc1\n",
        "    # (20,32) x (32,1) = (20,1) \n",
        "    output = self.fc(output_value)\n",
        "\n",
        "    # return output and hidden state\n",
        "    return output, hidden_value\n"
      ],
      "execution_count": 0,
      "outputs": []
    },
    {
      "cell_type": "markdown",
      "metadata": {
        "id": "todHTA_-to2q",
        "colab_type": "text"
      },
      "source": [
        "### Perform a dummy forward feed to inspect RNN dimension"
      ]
    },
    {
      "cell_type": "code",
      "metadata": {
        "id": "oFWGas_jtnfB",
        "colab_type": "code",
        "colab": {
          "base_uri": "https://localhost:8080/",
          "height": 85
        },
        "outputId": "3f8998e3-5f0f-4ff6-d269-b780565268c4"
      },
      "source": [
        "time_steps = np.linspace(0, np.pi, seq_length)\n",
        "data = np.sin(time_steps)\n",
        "data.resize((seq_length, 1))\n",
        "\n",
        "test_input = torch.Tensor(data).unsqueeze(0) # give it a batch_size of 1 as first dimension\n",
        "print('Input size: ', test_input.size())\n",
        "\n",
        "# test out rnn sizes\n",
        "test_out, test_h = rnn(test_input, None)\n",
        "print('Output size: ', test_out.size())\n",
        "print('Hidden state size: ', test_h.size())"
      ],
      "execution_count": 122,
      "outputs": [
        {
          "output_type": "stream",
          "text": [
            "Input size:  torch.Size([1, 20, 1])\n",
            "output shape:  torch.Size([20, 1])\n",
            "Output size:  torch.Size([20, 1])\n",
            "Hidden state size:  torch.Size([1, 1, 32])\n"
          ],
          "name": "stdout"
        }
      ]
    },
    {
      "cell_type": "markdown",
      "metadata": {
        "id": "I3BYeiHTzFWE",
        "colab_type": "text"
      },
      "source": [
        "### Train a model"
      ]
    },
    {
      "cell_type": "code",
      "metadata": {
        "id": "cNlxLXV-qPcc",
        "colab_type": "code",
        "colab": {
          "base_uri": "https://localhost:8080/",
          "height": 85
        },
        "outputId": "707dcd8c-dfa7-4a2f-ddfb-749bee6629be"
      },
      "source": [
        "input_size = 1\n",
        "output_size = 1\n",
        "hidden_dim = 32\n",
        "number_of_layers = 1\n",
        "\n",
        "rnn = RNN(input_size,output_size,hidden_dim,number_of_layers)\n",
        "print(rnn)"
      ],
      "execution_count": 123,
      "outputs": [
        {
          "output_type": "stream",
          "text": [
            "RNN(\n",
            "  (rnn): RNN(1, 32, batch_first=True)\n",
            "  (fc): Linear(in_features=32, out_features=1, bias=True)\n",
            ")\n"
          ],
          "name": "stdout"
        }
      ]
    },
    {
      "cell_type": "code",
      "metadata": {
        "id": "0ZIXB9PWrzmB",
        "colab_type": "code",
        "colab": {}
      },
      "source": [
        "#https://medium.com/udacity-pytorch-challengers/a-brief-overview-of-loss-functions-in-pytorch-c0ddb78068f7\n",
        "#MSE Loss because of Regression problems. The numerical value features are not large. Problem is not very high dimensional.\n",
        "\n",
        "criterion = nn.MSELoss()\n",
        "optimizer = torch.optim.Adam(rnn.parameters(),lr=0.01)\n"
      ],
      "execution_count": 0,
      "outputs": []
    },
    {
      "cell_type": "code",
      "metadata": {
        "id": "xd5H92a2c304",
        "colab_type": "code",
        "colab": {
          "base_uri": "https://localhost:8080/",
          "height": 1000
        },
        "outputId": "d6c8c46b-b4ce-456e-d977-860ccc1c6f1a"
      },
      "source": [
        "epochs = 1\n",
        "iteration = 75\n",
        "\n",
        "hidden = None\n",
        "\n",
        "for epoch in range(epochs):\n",
        "  for i in range(iteration):\n",
        "    # Currently input is of type numpy and size is (21,0). We need to convert\n",
        "    # into torch type with size of (1,20,1) [batch, seq_length, input_size]\n",
        "\n",
        "    #convert from numpy to torch. Take all value, except the last one. As we're\n",
        "    #trying to predict given input [0:20] is the output [1:21]\n",
        "    #input_tensor shape: 1,20\n",
        "    x_tensor = torch.from_numpy(raw_data[i][:-1]).float().view(1,20)\n",
        "\n",
        "    # y_tensor will be from index [1:]\n",
        "    y_tensor = torch.from_numpy(raw_data[i][1:]).float().view(1,20)\n",
        "\n",
        "    # Currently, input_tensor shape is 1,20. Convert this shape to 1,20,1\n",
        "    x_tensor = x_tensor.unsqueeze(2)\n",
        "    y_tensor = y_tensor.unsqueeze(2)\n",
        "\n",
        "    # forward feed into our model\n",
        "    prediction, hidden = rnn(x_tensor,hidden)\n",
        "\n",
        "    # make a new variable for hidden and detach the hidden state from its history\n",
        "    # this way, we don't backpropagate through the entire history\n",
        "    hidden = hidden.data\n",
        "\n",
        "    # calculate the loss\n",
        "    # (y_tensor - prediction)^2\n",
        "    loss = criterion(prediction, y_tensor)\n",
        "\n",
        "    # clear the gradient\n",
        "    optimizer.zero_grad()\n",
        "\n",
        "    # perform backward loss and update the weights\n",
        "    loss.backward()\n",
        "    optimizer.step()\n",
        "\n",
        "    if(i%10 == 0):\n",
        "      print('Loss: ',loss.item())\n",
        "      time = np.linspace(i * np.pi, (i+1)*np.pi, 20)\n",
        "      plt.plot(time, x.flatten(), 'r.') # input\n",
        "      plt.plot(time, prediction.data.numpy().squeeze(1), 'b.') # predictions\n",
        "      plt.show()\n",
        "\n",
        "\n",
        "\n",
        "\n",
        "  \n"
      ],
      "execution_count": 139,
      "outputs": [
        {
          "output_type": "stream",
          "text": [
            "Loss:  0.00035046032280661166\n"
          ],
          "name": "stdout"
        },
        {
          "output_type": "stream",
          "text": [
            "/usr/local/lib/python3.6/dist-packages/torch/nn/modules/loss.py:431: UserWarning: Using a target size (torch.Size([1, 20, 1])) that is different to the input size (torch.Size([20, 1])). This will likely lead to incorrect results due to broadcasting. Please ensure they have the same size.\n",
            "  return F.mse_loss(input, target, reduction=self.reduction)\n"
          ],
          "name": "stderr"
        },
        {
          "output_type": "display_data",
          "data": {
            "image/png": "[encoded data removed]",
            "text/plain": [
              "<Figure size 432x288 with 1 Axes>"
            ]
          },
          "metadata": {
            "tags": []
          }
        },
        {
          "output_type": "stream",
          "text": [
            "Loss:  7.935296162031591e-05\n"
          ],
          "name": "stdout"
        },
        {
          "output_type": "display_data",
          "data": {
            "image/png": "[encoded data removed]",
            "text/plain": [
              "<Figure size 432x288 with 1 Axes>"
            ]
          },
          "metadata": {
            "tags": []
          }
        },
        {
          "output_type": "stream",
          "text": [
            "Loss:  3.161021595587954e-05\n"
          ],
          "name": "stdout"
        },
        {
          "output_type": "display_data",
          "data": {
            "image/png": "[encoded data removed]",
            "text/plain": [
              "<Figure size 432x288 with 1 Axes>"
            ]
          },
          "metadata": {
            "tags": []
          }
        },
        {
          "output_type": "stream",
          "text": [
            "Loss:  2.1444428057293408e-05\n"
          ],
          "name": "stdout"
        },
        {
          "output_type": "display_data",
          "data": {
            "image/png": "[encoded data removed]",
            "text/plain": [
              "<Figure size 432x288 with 1 Axes>"
            ]
          },
          "metadata": {
            "tags": []
          }
        },
        {
          "output_type": "stream",
          "text": [
            "Loss:  4.162644017924322e-06\n"
          ],
          "name": "stdout"
        },
        {
          "output_type": "display_data",
          "data": {
            "image/png": "[encoded data removed]",
            "text/plain": [
              "<Figure size 432x288 with 1 Axes>"
            ]
          },
          "metadata": {
            "tags": []
          }
        },
        {
          "output_type": "stream",
          "text": [
            "Loss:  9.045866704582295e-07\n"
          ],
          "name": "stdout"
        },
        {
          "output_type": "display_data",
          "data": {
            "image/png": "[encoded data removed]",
            "text/plain": [
              "<Figure size 432x288 with 1 Axes>"
            ]
          },
          "metadata": {
            "tags": []
          }
        },
        {
          "output_type": "stream",
          "text": [
            "Loss:  7.474906738025311e-07\n"
          ],
          "name": "stdout"
        },
        {
          "output_type": "display_data",
          "data": {
            "image/png": "[encoded data removed]",
            "text/plain": [
              "<Figure size 432x288 with 1 Axes>"
            ]
          },
          "metadata": {
            "tags": []
          }
        },
        {
          "output_type": "stream",
          "text": [
            "Loss:  6.967733270357712e-07\n"
          ],
          "name": "stdout"
        },
        {
          "output_type": "display_data",
          "data": {
            "image/png": "[encoded data removed]",
            "text/plain": [
              "<Figure size 432x288 with 1 Axes>"
            ]
          },
          "metadata": {
            "tags": []
          }
        }
      ]
    },
    {
      "cell_type": "code",
      "metadata": {
        "id": "dA12t4uI3oBK",
        "colab_type": "code",
        "colab": {
          "base_uri": "https://localhost:8080/",
          "height": 34
        },
        "outputId": "4f4efd53-82e4-4c7f-ca34-2d49e857348a"
      },
      "source": [
        "prediction.data.numpy().squeeze(1).shape"
      ],
      "execution_count": 131,
      "outputs": [
        {
          "output_type": "execute_result",
          "data": {
            "text/plain": [
              "(20,)"
            ]
          },
          "metadata": {
            "tags": []
          },
          "execution_count": 131
        }
      ]
    },
    {
      "cell_type": "code",
      "metadata": {
        "id": "Q6eB4mAG4r93",
        "colab_type": "code",
        "colab": {}
      },
      "source": [
        ""
      ],
      "execution_count": 0,
      "outputs": []
    }
  ]
}