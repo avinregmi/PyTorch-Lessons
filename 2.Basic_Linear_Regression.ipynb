{
  "nbformat": 4,
  "nbformat_minor": 0,
  "metadata": {
    "colab": {
      "name": "Basic_Linear_Regression.ipynb",
      "provenance": [],
      "authorship_tag": "ABX9TyM+vjDCtRgjgua8vgjVAz63",
      "include_colab_link": true
    },
    "kernelspec": {
      "name": "python3",
      "display_name": "Python 3"
    }
  },
  "cells": [
    {
      "cell_type": "markdown",
      "metadata": {
        "id": "view-in-github",
        "colab_type": "text"
      },
      "source": [
        "<a href=\"https://colab.research.google.com/github/avinregmi/PyTorch-Lessons/blob/master/2.Basic_Linear_Regression.ipynb\" target=\"_parent\"><img src=\"https://colab.research.google.com/assets/colab-badge.svg\" alt=\"Open In Colab\"/></a>"
      ]
    },
    {
      "cell_type": "code",
      "metadata": {
        "id": "kP3sCCkpeSAf",
        "colab_type": "code",
        "colab": {}
      },
      "source": [
        "import torch\n",
        "import torch.nn as nn\n",
        "import matplotlib.pyplot as plt\n",
        "import numpy as np\n"
      ],
      "execution_count": 0,
      "outputs": []
    },
    {
      "cell_type": "code",
      "metadata": {
        "id": "ml09v1nsnM1-",
        "colab_type": "code",
        "colab": {
          "base_uri": "https://localhost:8080/",
          "height": 298
        },
        "outputId": "23c92fc4-27c8-4bf3-b20c-32fcbd5bde0e"
      },
      "source": [
        "X = torch.randn(100,1)*10\n",
        "y = X + 3*torch.randn(100,1)\n",
        "plt.plot(X.numpy(),y.numpy(),'o')\n",
        "plt.ylabel('y')\n",
        "plt.xlabel('x')"
      ],
      "execution_count": 2,
      "outputs": [
        {
          "output_type": "execute_result",
          "data": {
            "text/plain": [
              "Text(0.5, 0, 'x')"
            ]
          },
          "metadata": {
            "tags": []
          },
          "execution_count": 2
        },
        {
          "output_type": "display_data",
          "data": {
            "image/png": "[encoded data removed]",
            "text/plain": [
              "<Figure size 432x288 with 1 Axes>"
            ]
          },
          "metadata": {
            "tags": []
          }
        }
      ]
    },
    {
      "cell_type": "code",
      "metadata": {
        "id": "rDAKZzXjfjaN",
        "colab_type": "code",
        "colab": {}
      },
      "source": [
        "class LR(nn.Module):\n",
        "  def __init__(self, input_size, output_size):\n",
        "    super().__init__()\n",
        "    self.linear = nn.Linear(input_size, output_size)\n",
        "  def forward(self,x):\n",
        "    pred = self.linear(x)\n",
        "    return pred"
      ],
      "execution_count": 0,
      "outputs": []
    },
    {
      "cell_type": "code",
      "metadata": {
        "id": "gaDihbvulsYA",
        "colab_type": "code",
        "colab": {
          "base_uri": "https://localhost:8080/",
          "height": 153
        },
        "outputId": "04b76263-e530-4c76-82e4-ebb5b9ca96ef"
      },
      "source": [
        "model = LR(1,1)\n",
        "torch.manual_seed(1)\n",
        "print(list(model.parameters()))\n",
        "print('\\n')\n",
        "print(model)"
      ],
      "execution_count": 4,
      "outputs": [
        {
          "output_type": "stream",
          "text": [
            "[Parameter containing:\n",
            "tensor([[0.8091]], requires_grad=True), Parameter containing:\n",
            "tensor([0.2886], requires_grad=True)]\n",
            "\n",
            "\n",
            "LR(\n",
            "  (linear): Linear(in_features=1, out_features=1, bias=True)\n",
            ")\n"
          ],
          "name": "stdout"
        }
      ]
    },
    {
      "cell_type": "code",
      "metadata": {
        "id": "1SX-aK7mpsto",
        "colab_type": "code",
        "colab": {}
      },
      "source": [
        "[w,b] = model.parameters()\n",
        "def get_params():\n",
        "  return (w[0][0].item(), b[0].item())\n",
        "  "
      ],
      "execution_count": 0,
      "outputs": []
    },
    {
      "cell_type": "code",
      "metadata": {
        "id": "N6ifwdG9ptO_",
        "colab_type": "code",
        "colab": {
          "base_uri": "https://localhost:8080/",
          "height": 265
        },
        "outputId": "cec055e9-c536-40aa-ae56-a22dab65e009"
      },
      "source": [
        "def plot_fit(title):\n",
        "  plt.title = title\n",
        "  w1, b1 = get_params()\n",
        "  x1 = np.array([-30,30])\n",
        "  y1 = w1*x1 + b1\n",
        "  plt.plot(x1, y1, 'r')\n",
        "  plt.scatter(X,y)\n",
        "  plt.show()\n",
        "plot_fit('Untrained Data')"
      ],
      "execution_count": 6,
      "outputs": [
        {
          "output_type": "display_data",
          "data": {
            "image/png": "[encoded data removed]",
            "text/plain": [
              "<Figure size 432x288 with 1 Axes>"
            ]
          },
          "metadata": {
            "tags": []
          }
        }
      ]
    },
    {
      "cell_type": "code",
      "metadata": {
        "id": "K54y3rxnqkgf",
        "colab_type": "code",
        "colab": {
          "base_uri": "https://localhost:8080/",
          "height": 1000
        },
        "outputId": "7a0b9c32-3d41-45dd-e46d-740a2f378118"
      },
      "source": [
        "criterion = nn.MSELoss()\n",
        "optimizer = torch.optim.SGD(model.parameters(), lr=0.01)\n",
        "epochs = 100\n",
        "\n",
        "losses = []\n",
        "for i in range(epochs):\n",
        "  y_pred = model.forward(X)\n",
        "  loss = criterion(y_pred, y)\n",
        "  print(\"epoch:\", i, \"loss: \", loss.item())\n",
        "\n",
        "  losses.append(loss) #optional\n",
        "  optimizer.zero_grad() #clear out gradient\n",
        "  loss.backward() \n",
        "  optimizer.step()\n"
      ],
      "execution_count": 7,
      "outputs": [
        {
          "output_type": "stream",
          "text": [
            "epoch: 0 loss:  12.035856246948242\n",
            "epoch: 1 loss:  10.761073112487793\n",
            "epoch: 2 loss:  10.035913467407227\n",
            "epoch: 3 loss:  9.623404502868652\n",
            "epoch: 4 loss:  9.388744354248047\n",
            "epoch: 5 loss:  9.255252838134766\n",
            "epoch: 6 loss:  9.179311752319336\n",
            "epoch: 7 loss:  9.136106491088867\n",
            "epoch: 8 loss:  9.11152458190918\n",
            "epoch: 9 loss:  9.097536087036133\n",
            "epoch: 10 loss:  9.08957290649414\n",
            "epoch: 11 loss:  9.085039138793945\n",
            "epoch: 12 loss:  9.082454681396484\n",
            "epoch: 13 loss:  9.08098030090332\n",
            "epoch: 14 loss:  9.0801362991333\n",
            "epoch: 15 loss:  9.079652786254883\n",
            "epoch: 16 loss:  9.079373359680176\n",
            "epoch: 17 loss:  9.079211235046387\n",
            "epoch: 18 loss:  9.079113960266113\n",
            "epoch: 19 loss:  9.079055786132812\n",
            "epoch: 20 loss:  9.079019546508789\n",
            "epoch: 21 loss:  9.078994750976562\n",
            "epoch: 22 loss:  9.078978538513184\n",
            "epoch: 23 loss:  9.078965187072754\n",
            "epoch: 24 loss:  9.07895565032959\n",
            "epoch: 25 loss:  9.078947067260742\n",
            "epoch: 26 loss:  9.078939437866211\n",
            "epoch: 27 loss:  9.078932762145996\n",
            "epoch: 28 loss:  9.078926086425781\n",
            "epoch: 29 loss:  9.078919410705566\n",
            "epoch: 30 loss:  9.078914642333984\n",
            "epoch: 31 loss:  9.078908920288086\n",
            "epoch: 32 loss:  9.078904151916504\n",
            "epoch: 33 loss:  9.078898429870605\n",
            "epoch: 34 loss:  9.07889461517334\n",
            "epoch: 35 loss:  9.078889846801758\n",
            "epoch: 36 loss:  9.078885078430176\n",
            "epoch: 37 loss:  9.078880310058594\n",
            "epoch: 38 loss:  9.078876495361328\n",
            "epoch: 39 loss:  9.078872680664062\n",
            "epoch: 40 loss:  9.078868865966797\n",
            "epoch: 41 loss:  9.078865051269531\n",
            "epoch: 42 loss:  9.078861236572266\n",
            "epoch: 43 loss:  9.078857421875\n",
            "epoch: 44 loss:  9.078855514526367\n",
            "epoch: 45 loss:  9.078851699829102\n",
            "epoch: 46 loss:  9.078849792480469\n",
            "epoch: 47 loss:  9.078845977783203\n",
            "epoch: 48 loss:  9.078843116760254\n",
            "epoch: 49 loss:  9.078841209411621\n",
            "epoch: 50 loss:  9.078838348388672\n",
            "epoch: 51 loss:  9.078836441040039\n",
            "epoch: 52 loss:  9.07883358001709\n",
            "epoch: 53 loss:  9.078831672668457\n",
            "epoch: 54 loss:  9.078829765319824\n",
            "epoch: 55 loss:  9.078826904296875\n",
            "epoch: 56 loss:  9.078825950622559\n",
            "epoch: 57 loss:  9.078824043273926\n",
            "epoch: 58 loss:  9.078821182250977\n",
            "epoch: 59 loss:  9.078819274902344\n",
            "epoch: 60 loss:  9.078818321228027\n",
            "epoch: 61 loss:  9.078817367553711\n",
            "epoch: 62 loss:  9.078815460205078\n",
            "epoch: 63 loss:  9.078813552856445\n",
            "epoch: 64 loss:  9.078811645507812\n",
            "epoch: 65 loss:  9.078810691833496\n",
            "epoch: 66 loss:  9.07880973815918\n",
            "epoch: 67 loss:  9.078807830810547\n",
            "epoch: 68 loss:  9.07880687713623\n",
            "epoch: 69 loss:  9.078805923461914\n",
            "epoch: 70 loss:  9.078804969787598\n",
            "epoch: 71 loss:  9.078804016113281\n",
            "epoch: 72 loss:  9.078802108764648\n",
            "epoch: 73 loss:  9.078801155090332\n",
            "epoch: 74 loss:  9.078800201416016\n",
            "epoch: 75 loss:  9.078800201416016\n",
            "epoch: 76 loss:  9.0787992477417\n",
            "epoch: 77 loss:  9.078798294067383\n",
            "epoch: 78 loss:  9.078797340393066\n",
            "epoch: 79 loss:  9.07879638671875\n",
            "epoch: 80 loss:  9.078795433044434\n",
            "epoch: 81 loss:  9.078794479370117\n",
            "epoch: 82 loss:  9.078794479370117\n",
            "epoch: 83 loss:  9.0787935256958\n",
            "epoch: 84 loss:  9.078792572021484\n",
            "epoch: 85 loss:  9.078791618347168\n",
            "epoch: 86 loss:  9.078791618347168\n",
            "epoch: 87 loss:  9.078791618347168\n",
            "epoch: 88 loss:  9.078790664672852\n",
            "epoch: 89 loss:  9.078789710998535\n",
            "epoch: 90 loss:  9.078789710998535\n",
            "epoch: 91 loss:  9.078788757324219\n",
            "epoch: 92 loss:  9.078788757324219\n",
            "epoch: 93 loss:  9.078788757324219\n",
            "epoch: 94 loss:  9.078787803649902\n",
            "epoch: 95 loss:  9.078787803649902\n",
            "epoch: 96 loss:  9.078786849975586\n",
            "epoch: 97 loss:  9.078786849975586\n",
            "epoch: 98 loss:  9.078786849975586\n",
            "epoch: 99 loss:  9.07878589630127\n"
          ],
          "name": "stdout"
        }
      ]
    },
    {
      "cell_type": "code",
      "metadata": {
        "id": "32-Yu5wptSCL",
        "colab_type": "code",
        "colab": {
          "base_uri": "https://localhost:8080/",
          "height": 296
        },
        "outputId": "9143c8d6-4df7-4b13-8dc6-88733fdcfba3"
      },
      "source": [
        "plt.plot(range(epochs), losses)\n",
        "plt.ylabel('Loss')\n",
        "plt.xlabel('epoch')"
      ],
      "execution_count": 8,
      "outputs": [
        {
          "output_type": "execute_result",
          "data": {
            "text/plain": [
              "Text(0.5, 0, 'epoch')"
            ]
          },
          "metadata": {
            "tags": []
          },
          "execution_count": 8
        },
        {
          "output_type": "display_data",
          "data": {
            "image/png": "[encoded data removed]",
            "text/plain": [
              "<Figure size 432x288 with 1 Axes>"
            ]
          },
          "metadata": {
            "tags": []
          }
        }
      ]
    },
    {
      "cell_type": "code",
      "metadata": {
        "id": "uWM7fWzCtplQ",
        "colab_type": "code",
        "colab": {
          "base_uri": "https://localhost:8080/",
          "height": 265
        },
        "outputId": "05eedaa2-bc34-49e4-af74-fd2c8397284d"
      },
      "source": [
        "plot_fit(\"Trained Model\")"
      ],
      "execution_count": 9,
      "outputs": [
        {
          "output_type": "display_data",
          "data": {
            "image/png": "[encoded data removed]",
            "text/plain": [
              "<Figure size 432x288 with 1 Axes>"
            ]
          },
          "metadata": {
            "tags": []
          }
        }
      ]
    },
    {
      "cell_type": "code",
      "metadata": {
        "id": "J0WM5-d9uGU2",
        "colab_type": "code",
        "colab": {}
      },
      "source": [
        ""
      ],
      "execution_count": 0,
      "outputs": []
    }
  ]
}